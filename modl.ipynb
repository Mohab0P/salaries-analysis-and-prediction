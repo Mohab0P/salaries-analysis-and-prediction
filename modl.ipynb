{
 "cells": [
  {
   "cell_type": "code",
   "execution_count": null,
   "id": "709dea3c",
   "metadata": {},
   "outputs": [],
   "source": [
    "import pandas as pd\n",
    "import numpy as np\n",
    "import matplotlib as plt"
   ]
  },
  {
   "cell_type": "code",
   "execution_count": null,
   "id": "aeedbee3",
   "metadata": {},
   "outputs": [],
   "source": [
    "salaries_df = pd.read_csv('salaries.csv')\n",
    "salaries_df.head()"
   ]
  },
  {
   "cell_type": "code",
   "execution_count": null,
   "id": "9f334daa",
   "metadata": {},
   "outputs": [],
   "source": [
    "salaries_df.info()\n",
    "salaries_df.describe()"
   ]
  },
  {
   "cell_type": "code",
   "execution_count": null,
   "id": "4c96a8c1",
   "metadata": {},
   "outputs": [],
   "source": [
    "print(\"Data dimensions:\", salaries_df.shape)\n",
    "\n",
    "null_counts = salaries_df.isnull().sum()\n",
    "print(\"Missing values per column:\\n\", null_counts)\n",
    "\n",
    "salaries_df = salaries_df.dropna()"
   ]
  }
 ],
 "metadata": {
  "language_info": {
   "name": "python"
  }
 },
 "nbformat": 4,
 "nbformat_minor": 5
}
